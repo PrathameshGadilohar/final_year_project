{
 "cells": [
  {
   "cell_type": "code",
   "execution_count": 10,
   "metadata": {},
   "outputs": [],
   "source": [
    "import os\n",
    "\n",
    "import numpy as np\n",
    "import pandas as pd\n",
    "\n",
    "import matplotlib.pyplot as plt\n",
    "import seaborn as sns\n",
    "\n",
    "import tensorflow as tf\n",
    "from tensorflow.keras.models import Sequential\n",
    "from tensorflow.keras.layers import LSTM, Dense, Reshape\n"
   ]
  },
  {
   "cell_type": "code",
   "execution_count": 11,
   "metadata": {},
   "outputs": [
    {
     "data": {
      "text/plain": [
       "(104, 277, 229)"
      ]
     },
     "execution_count": 11,
     "metadata": {},
     "output_type": "execute_result"
    }
   ],
   "source": [
    "# Step 1: Get sequence of matrices\n",
    "\n",
    "matrix_sequence = []\n",
    "\n",
    "path_of_cropped_test_files = rf\"{os.getcwd()}\\src\\cropped_test\"\n",
    "\n",
    "for f in os.listdir(path_of_cropped_test_files):\n",
    "    df = pd.read_csv(rf\"{os.getcwd()}\\src\\cropped_test\\{f}\")\n",
    "    arr = df.to_numpy()\n",
    "    matrix_sequence.append(arr)\n",
    "\n",
    "matrix_sequence = np.array(matrix_sequence)\n",
    "\n",
    "num_matrices = len(matrix_sequence)\n",
    "matrix_shape = matrix_sequence[0].shape\n",
    "\n",
    "matrix_sequence.shape"
   ]
  },
  {
   "cell_type": "code",
   "execution_count": 12,
   "metadata": {},
   "outputs": [
    {
     "name": "stdout",
     "output_type": "stream",
     "text": [
      "(103, 277, 229)\n",
      "(103, 277, 229)\n"
     ]
    }
   ],
   "source": [
    "# Step 2: Preprocess the data for input to the LSTM model\n",
    "# Reshape each matrix to be a vector\n",
    "X = np.array(matrix_sequence[:-1])  # Input sequence\n",
    "y = np.array(matrix_sequence[1:])   # Output sequence\n",
    "\n",
    "print(X.shape)\n",
    "print(y.shape)"
   ]
  },
  {
   "cell_type": "code",
   "execution_count": 13,
   "metadata": {},
   "outputs": [
    {
     "name": "stdout",
     "output_type": "stream",
     "text": [
      "[[1378.           64.77999878   52.75999832 ...   32.77000046\n",
      "    45.59999847   39.98999786]\n",
      " [1379.           61.59000015   68.70999908 ...   45.\n",
      "    52.16999817   48.90999985]\n",
      " [1380.           65.08999634   78.22999573 ...   43.02000046\n",
      "    32.54999924   34.38000107]\n",
      " ...\n",
      " [1652.                   nan           nan ...           nan\n",
      "            nan           nan]\n",
      " [1653.                   nan           nan ...           nan\n",
      "            nan           nan]\n",
      " [1654.                   nan           nan ...           nan\n",
      "            nan           nan]]\n",
      "[[1378.           66.26000214   52.97999954 ...   37.81999969\n",
      "    51.86000061   47.14999771]\n",
      " [1379.           62.39999771   70.61000061 ...   50.70000076\n",
      "    55.88999939   50.86999893]\n",
      " [1380.           62.52000046   81.20999908 ...   46.41999817\n",
      "    33.65999985   34.73999786]\n",
      " ...\n",
      " [1652.                   nan           nan ...           nan\n",
      "            nan           nan]\n",
      " [1653.                   nan           nan ...           nan\n",
      "            nan           nan]\n",
      " [1654.                   nan           nan ...           nan\n",
      "            nan           nan]]\n"
     ]
    }
   ],
   "source": [
    "print(X[0])\n",
    "print(X[1])"
   ]
  },
  {
   "cell_type": "code",
   "execution_count": 29,
   "metadata": {},
   "outputs": [],
   "source": [
    "# define and compile the LSTM model\n",
    "model = Sequential([\n",
    "    Reshape((103, matrix_shape[0]*matrix_shape[1]), input_shape=matrix_shape),\n",
    "    LSTM(units=matrix_shape[0], return_sequences=True),\n",
    "    Dense(matrix_shape[0])\n",
    "])\n",
    "\n",
    "model.compile(loss='mse', optimizer='adam')\n"
   ]
  },
  {
   "cell_type": "code",
   "execution_count": 30,
   "metadata": {},
   "outputs": [
    {
     "name": "stdout",
     "output_type": "stream",
     "text": [
      "Epoch 1/3\n"
     ]
    },
    {
     "ename": "ValueError",
     "evalue": "in user code:\n\n    File \"c:\\Users\\Lenovo\\AppData\\Local\\Programs\\Python\\Python310\\lib\\site-packages\\keras\\engine\\training.py\", line 1249, in train_function  *\n        return step_function(self, iterator)\n    File \"c:\\Users\\Lenovo\\AppData\\Local\\Programs\\Python\\Python310\\lib\\site-packages\\keras\\engine\\training.py\", line 1233, in step_function  **\n        outputs = model.distribute_strategy.run(run_step, args=(data,))\n    File \"c:\\Users\\Lenovo\\AppData\\Local\\Programs\\Python\\Python310\\lib\\site-packages\\keras\\engine\\training.py\", line 1222, in run_step  **\n        outputs = model.train_step(data)\n    File \"c:\\Users\\Lenovo\\AppData\\Local\\Programs\\Python\\Python310\\lib\\site-packages\\keras\\engine\\training.py\", line 1024, in train_step\n        loss = self.compute_loss(x, y, y_pred, sample_weight)\n    File \"c:\\Users\\Lenovo\\AppData\\Local\\Programs\\Python\\Python310\\lib\\site-packages\\keras\\engine\\training.py\", line 1082, in compute_loss\n        return self.compiled_loss(\n    File \"c:\\Users\\Lenovo\\AppData\\Local\\Programs\\Python\\Python310\\lib\\site-packages\\keras\\engine\\compile_utils.py\", line 265, in __call__\n        loss_value = loss_obj(y_t, y_p, sample_weight=sw)\n    File \"c:\\Users\\Lenovo\\AppData\\Local\\Programs\\Python\\Python310\\lib\\site-packages\\keras\\losses.py\", line 152, in __call__\n        losses = call_fn(y_true, y_pred)\n    File \"c:\\Users\\Lenovo\\AppData\\Local\\Programs\\Python\\Python310\\lib\\site-packages\\keras\\losses.py\", line 284, in call  **\n        return ag_fn(y_true, y_pred, **self._fn_kwargs)\n    File \"c:\\Users\\Lenovo\\AppData\\Local\\Programs\\Python\\Python310\\lib\\site-packages\\keras\\losses.py\", line 1500, in mean_squared_error\n        return backend.mean(tf.math.squared_difference(y_pred, y_true), axis=-1)\n\n    ValueError: Dimensions must be equal, but are 277 and 229 for '{{node mean_squared_error/SquaredDifference}} = SquaredDifference[T=DT_FLOAT](sequential_9/dense_10/BiasAdd, IteratorGetNext:1)' with input shapes: [1,1,277], [1,277,229].\n",
     "output_type": "error",
     "traceback": [
      "\u001b[1;31m---------------------------------------------------------------------------\u001b[0m",
      "\u001b[1;31mValueError\u001b[0m                                Traceback (most recent call last)",
      "Cell \u001b[1;32mIn [30], line 2\u001b[0m\n\u001b[0;32m      1\u001b[0m \u001b[38;5;66;03m# Step 4: Train the model on the data\u001b[39;00m\n\u001b[1;32m----> 2\u001b[0m \u001b[43mmodel\u001b[49m\u001b[38;5;241;43m.\u001b[39;49m\u001b[43mfit\u001b[49m\u001b[43m(\u001b[49m\u001b[43mX\u001b[49m\u001b[43m,\u001b[49m\u001b[43m \u001b[49m\u001b[43my\u001b[49m\u001b[43m,\u001b[49m\u001b[43m \u001b[49m\u001b[43mepochs\u001b[49m\u001b[38;5;241;43m=\u001b[39;49m\u001b[38;5;241;43m3\u001b[39;49m\u001b[43m,\u001b[49m\u001b[43m \u001b[49m\u001b[43mbatch_size\u001b[49m\u001b[38;5;241;43m=\u001b[39;49m\u001b[38;5;241;43m1\u001b[39;49m\u001b[43m)\u001b[49m\n",
      "File \u001b[1;32mc:\\Users\\Lenovo\\AppData\\Local\\Programs\\Python\\Python310\\lib\\site-packages\\keras\\utils\\traceback_utils.py:70\u001b[0m, in \u001b[0;36mfilter_traceback.<locals>.error_handler\u001b[1;34m(*args, **kwargs)\u001b[0m\n\u001b[0;32m     67\u001b[0m     filtered_tb \u001b[38;5;241m=\u001b[39m _process_traceback_frames(e\u001b[38;5;241m.\u001b[39m__traceback__)\n\u001b[0;32m     68\u001b[0m     \u001b[38;5;66;03m# To get the full stack trace, call:\u001b[39;00m\n\u001b[0;32m     69\u001b[0m     \u001b[38;5;66;03m# `tf.debugging.disable_traceback_filtering()`\u001b[39;00m\n\u001b[1;32m---> 70\u001b[0m     \u001b[38;5;28;01mraise\u001b[39;00m e\u001b[38;5;241m.\u001b[39mwith_traceback(filtered_tb) \u001b[38;5;28;01mfrom\u001b[39;00m \u001b[38;5;28mNone\u001b[39m\n\u001b[0;32m     71\u001b[0m \u001b[38;5;28;01mfinally\u001b[39;00m:\n\u001b[0;32m     72\u001b[0m     \u001b[38;5;28;01mdel\u001b[39;00m filtered_tb\n",
      "File \u001b[1;32m~\\AppData\\Local\\Temp\\__autograph_generated_file50b2uura.py:15\u001b[0m, in \u001b[0;36mouter_factory.<locals>.inner_factory.<locals>.tf__train_function\u001b[1;34m(iterator)\u001b[0m\n\u001b[0;32m     13\u001b[0m \u001b[38;5;28;01mtry\u001b[39;00m:\n\u001b[0;32m     14\u001b[0m     do_return \u001b[38;5;241m=\u001b[39m \u001b[38;5;28;01mTrue\u001b[39;00m\n\u001b[1;32m---> 15\u001b[0m     retval_ \u001b[38;5;241m=\u001b[39m ag__\u001b[38;5;241m.\u001b[39mconverted_call(ag__\u001b[38;5;241m.\u001b[39mld(step_function), (ag__\u001b[38;5;241m.\u001b[39mld(\u001b[38;5;28mself\u001b[39m), ag__\u001b[38;5;241m.\u001b[39mld(iterator)), \u001b[38;5;28;01mNone\u001b[39;00m, fscope)\n\u001b[0;32m     16\u001b[0m \u001b[38;5;28;01mexcept\u001b[39;00m:\n\u001b[0;32m     17\u001b[0m     do_return \u001b[38;5;241m=\u001b[39m \u001b[38;5;28;01mFalse\u001b[39;00m\n",
      "\u001b[1;31mValueError\u001b[0m: in user code:\n\n    File \"c:\\Users\\Lenovo\\AppData\\Local\\Programs\\Python\\Python310\\lib\\site-packages\\keras\\engine\\training.py\", line 1249, in train_function  *\n        return step_function(self, iterator)\n    File \"c:\\Users\\Lenovo\\AppData\\Local\\Programs\\Python\\Python310\\lib\\site-packages\\keras\\engine\\training.py\", line 1233, in step_function  **\n        outputs = model.distribute_strategy.run(run_step, args=(data,))\n    File \"c:\\Users\\Lenovo\\AppData\\Local\\Programs\\Python\\Python310\\lib\\site-packages\\keras\\engine\\training.py\", line 1222, in run_step  **\n        outputs = model.train_step(data)\n    File \"c:\\Users\\Lenovo\\AppData\\Local\\Programs\\Python\\Python310\\lib\\site-packages\\keras\\engine\\training.py\", line 1024, in train_step\n        loss = self.compute_loss(x, y, y_pred, sample_weight)\n    File \"c:\\Users\\Lenovo\\AppData\\Local\\Programs\\Python\\Python310\\lib\\site-packages\\keras\\engine\\training.py\", line 1082, in compute_loss\n        return self.compiled_loss(\n    File \"c:\\Users\\Lenovo\\AppData\\Local\\Programs\\Python\\Python310\\lib\\site-packages\\keras\\engine\\compile_utils.py\", line 265, in __call__\n        loss_value = loss_obj(y_t, y_p, sample_weight=sw)\n    File \"c:\\Users\\Lenovo\\AppData\\Local\\Programs\\Python\\Python310\\lib\\site-packages\\keras\\losses.py\", line 152, in __call__\n        losses = call_fn(y_true, y_pred)\n    File \"c:\\Users\\Lenovo\\AppData\\Local\\Programs\\Python\\Python310\\lib\\site-packages\\keras\\losses.py\", line 284, in call  **\n        return ag_fn(y_true, y_pred, **self._fn_kwargs)\n    File \"c:\\Users\\Lenovo\\AppData\\Local\\Programs\\Python\\Python310\\lib\\site-packages\\keras\\losses.py\", line 1500, in mean_squared_error\n        return backend.mean(tf.math.squared_difference(y_pred, y_true), axis=-1)\n\n    ValueError: Dimensions must be equal, but are 277 and 229 for '{{node mean_squared_error/SquaredDifference}} = SquaredDifference[T=DT_FLOAT](sequential_9/dense_10/BiasAdd, IteratorGetNext:1)' with input shapes: [1,1,277], [1,277,229].\n"
     ]
    }
   ],
   "source": [
    "# train the model on the data\n",
    "model.fit(X, y, epochs=3, batch_size=1)\n",
    "\n"
   ]
  },
  {
   "cell_type": "code",
   "execution_count": null,
   "metadata": {},
   "outputs": [
    {
     "name": "stdout",
     "output_type": "stream",
     "text": [
      "1/1 [==============================] - 0s 218ms/step\n",
      "Predicted Matrix:\n",
      "[[nan nan nan ... nan nan nan]\n",
      " [nan nan nan ... nan nan nan]\n",
      " [nan nan nan ... nan nan nan]\n",
      " ...\n",
      " [nan nan nan ... nan nan nan]\n",
      " [nan nan nan ... nan nan nan]\n",
      " [nan nan nan ... nan nan nan]]\n",
      "Actual Matrix:\n",
      "[[          nan 7019.         7020.         ... 7244.\n",
      "  7245.         7246.        ]\n",
      " [1378.           56.68000031   49.43000031 ...   36.27999878\n",
      "    37.43999863   38.75999832]\n",
      " [1379.           62.54999924   67.66999817 ...   50.52999878\n",
      "    43.54999924   37.09000015]\n",
      " ...\n",
      " [1652.                   nan           nan ...           nan\n",
      "            nan           nan]\n",
      " [1653.                   nan           nan ...           nan\n",
      "            nan           nan]\n",
      " [1654.                   nan           nan ...           nan\n",
      "            nan           nan]]\n",
      "\n",
      "Predicted Matrix:\n",
      "[[nan nan nan ... nan nan nan]\n",
      " [nan nan nan ... nan nan nan]\n",
      " [nan nan nan ... nan nan nan]\n",
      " ...\n",
      " [nan nan nan ... nan nan nan]\n",
      " [nan nan nan ... nan nan nan]\n",
      " [nan nan nan ... nan nan nan]]\n",
      "Actual Matrix:\n",
      "[[          nan 7019.         7020.         ... 7244.\n",
      "  7245.         7246.        ]\n",
      " [1378.           54.50999832   44.66999817 ...   36.54000092\n",
      "    37.59000015   38.54999924]\n",
      " [1379.           60.41999817   65.04000092 ...   54.48999786\n",
      "    42.20000076   39.00999832]\n",
      " ...\n",
      " [1652.                   nan           nan ...           nan\n",
      "            nan           nan]\n",
      " [1653.                   nan           nan ...           nan\n",
      "            nan           nan]\n",
      " [1654.                   nan           nan ...           nan\n",
      "            nan           nan]]\n",
      "\n",
      "Predicted Matrix:\n",
      "[[nan nan nan ... nan nan nan]\n",
      " [nan nan nan ... nan nan nan]\n",
      " [nan nan nan ... nan nan nan]\n",
      " ...\n",
      " [nan nan nan ... nan nan nan]\n",
      " [nan nan nan ... nan nan nan]\n",
      " [nan nan nan ... nan nan nan]]\n",
      "Actual Matrix:\n",
      "[[          nan 7019.         7020.         ... 7244.\n",
      "  7245.         7246.        ]\n",
      " [1378.           54.27000046   44.21999741 ...   42.43000031\n",
      "    41.82999802   42.55999756]\n",
      " [1379.           59.20999908   64.19999695 ...   61.25\n",
      "    46.84000015   46.62999725]\n",
      " ...\n",
      " [1652.                   nan           nan ...           nan\n",
      "            nan           nan]\n",
      " [1653.                   nan           nan ...           nan\n",
      "            nan           nan]\n",
      " [1654.                   nan           nan ...           nan\n",
      "            nan           nan]]\n",
      "\n",
      "Predicted Matrix:\n",
      "[[nan nan nan ... nan nan nan]\n",
      " [nan nan nan ... nan nan nan]\n",
      " [nan nan nan ... nan nan nan]\n",
      " ...\n",
      " [nan nan nan ... nan nan nan]\n",
      " [nan nan nan ... nan nan nan]\n",
      " [nan nan nan ... nan nan nan]]\n",
      "Actual Matrix:\n",
      "[[          nan 7019.         7020.         ... 7244.\n",
      "  7245.         7246.        ]\n",
      " [1378.           57.0399971    46.27000046 ...   50.36000061\n",
      "    47.72999954   49.29999924]\n",
      " [1379.           60.6099968    67.83000183 ...   69.91999817\n",
      "    58.84999847   54.96999741]\n",
      " ...\n",
      " [1652.                   nan           nan ...           nan\n",
      "            nan           nan]\n",
      " [1653.                   nan           nan ...           nan\n",
      "            nan           nan]\n",
      " [1654.                   nan           nan ...           nan\n",
      "            nan           nan]]\n",
      "\n"
     ]
    }
   ],
   "source": [
    "# Making predictions\n",
    "predictions = model.predict(X)\n",
    "\n",
    "# Print a few examples of predictions\n",
    "for i in range(len(predictions)):\n",
    "    print(\"Predicted Matrix:\")\n",
    "    print(predictions[i])\n",
    "    print(\"Actual Matrix:\")\n",
    "    print(y[i])\n",
    "    print()"
   ]
  },
  {
   "cell_type": "code",
   "execution_count": null,
   "metadata": {},
   "outputs": [
    {
     "name": "stdout",
     "output_type": "stream",
     "text": [
      "[nan nan nan nan nan nan nan nan nan nan nan nan nan nan nan nan nan nan\n",
      " nan nan nan nan nan nan nan nan nan nan nan nan nan nan nan nan nan nan\n",
      " nan nan nan nan nan nan nan nan nan nan nan nan nan nan nan nan nan nan\n",
      " nan nan nan nan nan nan nan nan nan nan nan nan nan nan nan nan nan nan\n",
      " nan nan nan nan nan nan nan nan nan nan nan nan nan nan nan nan nan nan\n",
      " nan nan nan nan nan nan nan nan nan nan nan nan nan nan nan nan nan nan\n",
      " nan nan nan nan nan nan nan nan nan nan nan nan nan nan nan nan nan nan\n",
      " nan nan nan nan nan nan nan nan nan nan nan nan nan nan nan nan nan nan\n",
      " nan nan nan nan nan nan nan nan nan nan nan nan nan nan nan nan nan nan\n",
      " nan nan nan nan nan nan nan nan nan nan nan nan nan nan nan nan nan nan\n",
      " nan nan nan nan nan nan nan nan nan nan nan nan nan nan nan nan nan nan\n",
      " nan nan nan nan nan nan nan nan nan nan nan nan nan nan nan nan nan nan\n",
      " nan nan nan nan nan nan nan nan nan nan nan nan nan]\n"
     ]
    }
   ],
   "source": [
    "print(predictions[0][0])"
   ]
  },
  {
   "cell_type": "code",
   "execution_count": null,
   "metadata": {},
   "outputs": [],
   "source": []
  }
 ],
 "metadata": {
  "kernelspec": {
   "display_name": "Python 3",
   "language": "python",
   "name": "python3"
  },
  "language_info": {
   "codemirror_mode": {
    "name": "ipython",
    "version": 3
   },
   "file_extension": ".py",
   "mimetype": "text/x-python",
   "name": "python",
   "nbconvert_exporter": "python",
   "pygments_lexer": "ipython3",
   "version": "3.10.7"
  }
 },
 "nbformat": 4,
 "nbformat_minor": 2
}
